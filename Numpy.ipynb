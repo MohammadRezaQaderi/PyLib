{
 "cells": [
  {
   "cell_type": "code",
   "execution_count": 4,
   "id": "b3fbbc99",
   "metadata": {},
   "outputs": [],
   "source": [
    "import numpy as np"
   ]
  },
  {
   "cell_type": "code",
   "execution_count": 9,
   "id": "b4b4ea42",
   "metadata": {},
   "outputs": [],
   "source": [
    "# Array in numpy\n",
    "a = np.array([1, 2, 3])\n",
    "b = np.array([[4, 5, 6] , [7, 8, 9]])"
   ]
  },
  {
   "cell_type": "code",
   "execution_count": 6,
   "id": "f69afde2",
   "metadata": {},
   "outputs": [
    {
     "name": "stdout",
     "output_type": "stream",
     "text": [
      "[1 2 3]\n"
     ]
    }
   ],
   "source": [
    "print(a)"
   ]
  },
  {
   "cell_type": "code",
   "execution_count": 10,
   "id": "a8dd99bf",
   "metadata": {},
   "outputs": [
    {
     "data": {
      "text/plain": [
       "2"
      ]
     },
     "execution_count": 10,
     "metadata": {},
     "output_type": "execute_result"
    }
   ],
   "source": [
    "# Get dimension \n",
    "a.ndim\n",
    "b.ndim"
   ]
  },
  {
   "cell_type": "code",
   "execution_count": 11,
   "id": "186f19d9",
   "metadata": {},
   "outputs": [
    {
     "data": {
      "text/plain": [
       "(2, 3)"
      ]
     },
     "execution_count": 11,
     "metadata": {},
     "output_type": "execute_result"
    }
   ],
   "source": [
    "# Get the Shape (row and col in their)\n",
    "a.shape\n",
    "b.shape"
   ]
  },
  {
   "cell_type": "code",
   "execution_count": 13,
   "id": "bddcf166",
   "metadata": {},
   "outputs": [
    {
     "name": "stdout",
     "output_type": "stream",
     "text": [
      "int32\n",
      "4\n"
     ]
    }
   ],
   "source": [
    "# Get Type (The int that allocated) and Size(the byte that allocated)\n",
    "print(a.dtype)\n",
    "print(a.itemsize)"
   ]
  },
  {
   "cell_type": "code",
   "execution_count": 15,
   "id": "c6d3010b",
   "metadata": {},
   "outputs": [
    {
     "name": "stdout",
     "output_type": "stream",
     "text": [
      "[[ 1  2  3  4  5  6  7]\n",
      " [ 8  9 10 11 12 13 14]]\n"
     ]
    }
   ],
   "source": [
    "c = np.array([[1, 2, 3, 4, 5, 6, 7], [8, 9, 10, 11, 12, 13, 14]])\n",
    "print(c)"
   ]
  },
  {
   "cell_type": "code",
   "execution_count": 17,
   "id": "6f668e2b",
   "metadata": {},
   "outputs": [
    {
     "name": "stdout",
     "output_type": "stream",
     "text": [
      "13\n",
      "13\n"
     ]
    }
   ],
   "source": [
    "# Get the specific element [row , col]\n",
    "print(c[1 , 5]) #or we can have (c[1, -2])\n",
    "print(c[1][5]) # this is another way"
   ]
  },
  {
   "cell_type": "code",
   "execution_count": 20,
   "id": "cadeaba1",
   "metadata": {},
   "outputs": [
    {
     "name": "stdout",
     "output_type": "stream",
     "text": [
      "[1 2 3 4 5 6 7]\n",
      "[1 2 3 4 5 6 7]\n"
     ]
    }
   ],
   "source": [
    "# Get the specific row (or col)\n",
    "print(c[0, :]) # for col is inverse c[:, 0]\n",
    "print(c[0])"
   ]
  },
  {
   "cell_type": "code",
   "execution_count": 29,
   "id": "1b6bdff6",
   "metadata": {},
   "outputs": [
    {
     "data": {
      "text/plain": [
       "array([2, 4, 6])"
      ]
     },
     "execution_count": 29,
     "metadata": {},
     "output_type": "execute_result"
    }
   ],
   "source": [
    "# Get a fantecy c[startindex:endindex:stepsize]\n",
    "c[0, 1:6:2] #c[0, 1:-1:2]"
   ]
  },
  {
   "cell_type": "code",
   "execution_count": 33,
   "id": "ffa261b8",
   "metadata": {},
   "outputs": [
    {
     "name": "stdout",
     "output_type": "stream",
     "text": [
      "[[[1 2]\n",
      "  [3 4]]\n",
      "\n",
      " [[5 6]\n",
      "  [7 8]]]\n",
      "3\n"
     ]
    }
   ],
   "source": [
    "# n dim get element (work outside in)\n",
    "b =np.array([[[1, 2], [3, 4]], [[5, 6], [7, 8]]])\n",
    "print(b)\n",
    "print(b[0, 1, 0])"
   ]
  },
  {
   "cell_type": "code",
   "execution_count": 34,
   "id": "af857e0d",
   "metadata": {},
   "outputs": [
    {
     "name": "stdout",
     "output_type": "stream",
     "text": [
      "[[0. 0. 0.]\n",
      " [0. 0. 0.]]\n"
     ]
    }
   ],
   "source": [
    "# all zeros matrix c(row, col)\n",
    "d = np.zeros((2, 3))\n",
    "print(d)"
   ]
  },
  {
   "cell_type": "code",
   "execution_count": 40,
   "id": "4c8b48f4",
   "metadata": {},
   "outputs": [
    {
     "name": "stdout",
     "output_type": "stream",
     "text": [
      "[[[1. 1.]\n",
      "  [1. 1.]\n",
      "  [1. 1.]]\n",
      "\n",
      " [[1. 1.]\n",
      "  [1. 1.]\n",
      "  [1. 1.]]]\n"
     ]
    }
   ],
   "source": [
    "# all ones matrix \n",
    "e = np.ones((2, 3, 2))\n",
    "print(e)"
   ]
  },
  {
   "cell_type": "code",
   "execution_count": 36,
   "id": "b6fd0018",
   "metadata": {},
   "outputs": [
    {
     "name": "stdout",
     "output_type": "stream",
     "text": [
      "[[5 5]]\n"
     ]
    }
   ],
   "source": [
    "# any other number full((shape), value)\n",
    "f = np.full((1, 2), 5)\n",
    "print(f)"
   ]
  },
  {
   "cell_type": "code",
   "execution_count": 37,
   "id": "9a718787",
   "metadata": {},
   "outputs": [
    {
     "name": "stdout",
     "output_type": "stream",
     "text": [
      "[7 7 7]\n"
     ]
    }
   ],
   "source": [
    "# the look like array make new array \n",
    "g = np.full_like(a, 7) # or we can np.full(a.shape, 7)\n",
    "print(g)"
   ]
  },
  {
   "cell_type": "code",
   "execution_count": 46,
   "id": "f2af566b",
   "metadata": {},
   "outputs": [
    {
     "name": "stdout",
     "output_type": "stream",
     "text": [
      "[[0.77330382 0.5021246 ]\n",
      " [0.2002789  0.65432713]\n",
      " [0.632636   0.34761515]\n",
      " [0.5205834  0.10345776]]\n",
      "[[2 4]\n",
      " [3 4]\n",
      " [4 3]\n",
      " [0 1]]\n"
     ]
    }
   ],
   "source": [
    "# the random decimal array make np.random.rand(shape)\n",
    "h = np.random.rand(4,2)\n",
    "print(h)\n",
    "\n",
    "# random int np.random.randint( 0(or a number ,) to this number, size=(shape))\n",
    "i = np.random.randint(5, size=(4,2))\n",
    "print(i)"
   ]
  },
  {
   "cell_type": "code",
   "execution_count": 51,
   "id": "65feb158",
   "metadata": {},
   "outputs": [
    {
     "name": "stdout",
     "output_type": "stream",
     "text": [
      "[[1. 0. 0. 0. 0.]\n",
      " [0. 1. 0. 0. 0.]\n",
      " [0. 0. 1. 0. 0.]\n",
      " [0. 0. 0. 1. 0.]\n",
      " [0. 0. 0. 0. 1.]]\n",
      "[[1 2]\n",
      " [1 2]\n",
      " [1 2]\n",
      " [1 2]\n",
      " [1 2]]\n"
     ]
    }
   ],
   "source": [
    "# the identity matrix\n",
    "j = np.identity(5)\n",
    "print(j)\n",
    "\n",
    "# repeat the array \n",
    "arr = np.array([[1, 2]])\n",
    "k = np.repeat(arr, 5 , axis=0)\n",
    "print(k)"
   ]
  },
  {
   "cell_type": "code",
   "execution_count": 53,
   "id": "795b89da",
   "metadata": {},
   "outputs": [
    {
     "name": "stdout",
     "output_type": "stream",
     "text": [
      "[[1. 1. 1. 1. 1.]\n",
      " [1. 0. 0. 0. 1.]\n",
      " [1. 0. 9. 0. 1.]\n",
      " [1. 0. 0. 0. 1.]\n",
      " [1. 1. 1. 1. 1.]]\n"
     ]
    }
   ],
   "source": [
    "# the Q for a make array like [[1, 1, 1, 1, 1], [1, 0, 0, 0, 1], [1, 0, 9, 0, 1], [1, 0, 0, 0, 1], [1, 1, 1, 1, 1]]\n",
    "output = np.ones((5, 5))\n",
    "\n",
    "z = np.zeros((3, 3))\n",
    "z[1, 1] = 9 \n",
    "output[1:-1, 1:-1] = z\n",
    "\n",
    "\n",
    "print(output)"
   ]
  },
  {
   "cell_type": "markdown",
   "id": "494ee3ec",
   "metadata": {},
   "source": [
    "### be careful  when copy a array!!!"
   ]
  },
  {
   "cell_type": "code",
   "execution_count": 54,
   "id": "2b20e039",
   "metadata": {},
   "outputs": [
    {
     "name": "stdout",
     "output_type": "stream",
     "text": [
      "[1 2 3]\n",
      "[27  2  3]\n"
     ]
    }
   ],
   "source": [
    "l = np.array([1, 2, 3])\n",
    "m = l.copy() # if we use m = 1 this two point to the one memory\n",
    "m[0] = 27\n",
    "print(l) # if we have m = l here we have [27, 2, 3] \n",
    "print(m)"
   ]
  },
  {
   "cell_type": "markdown",
   "id": "e4386a60",
   "metadata": {},
   "source": [
    "# mathmatic "
   ]
  },
  {
   "cell_type": "code",
   "execution_count": 56,
   "id": "18d5ddad",
   "metadata": {},
   "outputs": [],
   "source": [
    "# mathmatic :)\n",
    "n = np.array([1, 2, 3, 4, 5])"
   ]
  },
  {
   "cell_type": "code",
   "execution_count": 65,
   "id": "ed4aff28",
   "metadata": {},
   "outputs": [
    {
     "data": {
      "text/plain": [
       "array([ 0.84147098,  0.90929743,  0.14112001, -0.7568025 , -0.95892427])"
      ]
     },
     "execution_count": 65,
     "metadata": {},
     "output_type": "execute_result"
    }
   ],
   "source": [
    "# we have all operations on all elements  \n",
    "n + 2 # all elements + 2\n",
    "n - 2\n",
    "n * 2\n",
    "n / 2\n",
    "n ** 2\n",
    "np.sin(n) # take the sin of value"
   ]
  },
  {
   "cell_type": "markdown",
   "id": "5fc46185",
   "metadata": {},
   "source": [
    "o = np.array(n) # in this case should have a same shape\n",
    "n + o"
   ]
  },
  {
   "cell_type": "markdown",
   "id": "d24b38ed",
   "metadata": {},
   "source": [
    "# Linear Algebra"
   ]
  },
  {
   "cell_type": "code",
   "execution_count": 67,
   "id": "d55b4bc3",
   "metadata": {},
   "outputs": [
    {
     "data": {
      "text/plain": [
       "array([[6., 6.],\n",
       "       [6., 6.]])"
      ]
     },
     "execution_count": 67,
     "metadata": {},
     "output_type": "execute_result"
    }
   ],
   "source": [
    "# the algebra multiplections \n",
    "p = np.ones((2, 3))\n",
    "\n",
    "q = np.full((3, 2), 2)\n",
    "\n",
    "np.matmul(p,q)"
   ]
  },
  {
   "cell_type": "code",
   "execution_count": 68,
   "id": "efbd07db",
   "metadata": {},
   "outputs": [
    {
     "data": {
      "text/plain": [
       "1.0"
      ]
     },
     "execution_count": 68,
     "metadata": {},
     "output_type": "execute_result"
    }
   ],
   "source": [
    "# find determinations of array\n",
    "r = np.identity(3)\n",
    "np.linalg.det(r)"
   ]
  },
  {
   "cell_type": "markdown",
   "id": "748dcc50",
   "metadata": {},
   "source": [
    "### statictic"
   ]
  },
  {
   "cell_type": "code",
   "execution_count": 69,
   "id": "6f916391",
   "metadata": {},
   "outputs": [
    {
     "data": {
      "text/plain": [
       "1"
      ]
     },
     "execution_count": 69,
     "metadata": {},
     "output_type": "execute_result"
    }
   ],
   "source": [
    "s = np.array([[1, 2, 3], [4, 5, 6]])\n",
    "\n",
    "np.min(s)"
   ]
  },
  {
   "cell_type": "code",
   "execution_count": 71,
   "id": "1f39d965",
   "metadata": {},
   "outputs": [
    {
     "data": {
      "text/plain": [
       "21"
      ]
     },
     "execution_count": 71,
     "metadata": {},
     "output_type": "execute_result"
    }
   ],
   "source": [
    "np.max(s) # set the max element\n",
    "np.sum(s)"
   ]
  },
  {
   "cell_type": "markdown",
   "id": "acc897fd",
   "metadata": {},
   "source": [
    "## Reorganizing Arrays"
   ]
  },
  {
   "cell_type": "code",
   "execution_count": 73,
   "id": "35fba743",
   "metadata": {},
   "outputs": [
    {
     "name": "stdout",
     "output_type": "stream",
     "text": [
      "[[1]\n",
      " [2]\n",
      " [3]\n",
      " [4]\n",
      " [5]\n",
      " [6]\n",
      " [7]\n",
      " [8]]\n"
     ]
    }
   ],
   "source": [
    "# reshape the array\n",
    "t = np.array([[1, 2, 3, 4], [5, 6, 7, 8]])\n",
    "\n",
    "u = t.reshape((8, 1))\n",
    "print(u)"
   ]
  },
  {
   "cell_type": "code",
   "execution_count": 75,
   "id": "44e011b6",
   "metadata": {},
   "outputs": [
    {
     "data": {
      "text/plain": [
       "array([[1, 2, 3],\n",
       "       [4, 5, 6]])"
      ]
     },
     "execution_count": 75,
     "metadata": {},
     "output_type": "execute_result"
    }
   ],
   "source": [
    "# vertically stacking vectors\n",
    "v1 = np.array([1, 2, 3])\n",
    "v2 = np.array([4, 5, 6])\n",
    "\n",
    "np.vstack([v1, v2])"
   ]
  },
  {
   "cell_type": "code",
   "execution_count": 80,
   "id": "3619382e",
   "metadata": {},
   "outputs": [
    {
     "data": {
      "text/plain": [
       "array([[1., 1., 1., 1., 0., 0.],\n",
       "       [1., 1., 1., 1., 0., 0.]])"
      ]
     },
     "execution_count": 80,
     "metadata": {},
     "output_type": "execute_result"
    }
   ],
   "source": [
    "# horizantal stacking vectors\n",
    "h1 = np.ones((2, 4))\n",
    "h2 = np.zeros((2, 2))\n",
    "\n",
    "np.hstack([h1, h2])"
   ]
  },
  {
   "cell_type": "markdown",
   "id": "8918325d",
   "metadata": {},
   "source": [
    "# Miscellaneous\n",
    "\n",
    "### load data from file"
   ]
  },
  {
   "cell_type": "code",
   "execution_count": 83,
   "id": "70343fbc",
   "metadata": {},
   "outputs": [
    {
     "name": "stdout",
     "output_type": "stream",
     "text": [
      "[[ 1.  2.  3.  4.  5.  6.]\n",
      " [ 7.  8.  9. 10. 11. 12.]\n",
      " [13. 14. 15. 16. 17. 18.]]\n"
     ]
    }
   ],
   "source": [
    "# get the array from a txt file \n",
    "\n",
    "u = np.genfromtxt(\"data.txt\" , delimiter=\",\")\n",
    "print(u)"
   ]
  },
  {
   "cell_type": "markdown",
   "id": "04c0b390",
   "metadata": {},
   "source": [
    "#### advance indexing and Boolean masking"
   ]
  },
  {
   "cell_type": "code",
   "execution_count": 85,
   "id": "9097fd8a",
   "metadata": {},
   "outputs": [
    {
     "data": {
      "text/plain": [
       "array([[False, False, False, False, False,  True],\n",
       "       [ True,  True,  True,  True,  True,  True],\n",
       "       [ True,  True,  True,  True,  True,  True]])"
      ]
     },
     "execution_count": 85,
     "metadata": {},
     "output_type": "execute_result"
    }
   ],
   "source": [
    "# the boolean checking :)\n",
    "u > 5 # and all operation like this"
   ]
  },
  {
   "cell_type": "code",
   "execution_count": 97,
   "id": "72cbd266",
   "metadata": {},
   "outputs": [
    {
     "data": {
      "text/plain": [
       "array([2, 7, 8])"
      ]
     },
     "execution_count": 97,
     "metadata": {},
     "output_type": "execute_result"
    }
   ],
   "source": [
    "# get the data in matrix upper than specific num\n",
    "u[u > 15]\n",
    "\n",
    "# we can index with list \n",
    "w = np.array([1, 2, 3, 4, 5, 6, 7, 8, 9])\n",
    "w[[1, 6, 7]]"
   ]
  },
  {
   "cell_type": "code",
   "execution_count": 99,
   "id": "1ed8ca4b",
   "metadata": {},
   "outputs": [
    {
     "data": {
      "text/plain": [
       "array([False, False, False,  True,  True,  True])"
      ]
     },
     "execution_count": 99,
     "metadata": {},
     "output_type": "execute_result"
    }
   ],
   "source": [
    "np.any(u > 15 , axis = 0) # np.all  check all element of col(if axis = 0)"
   ]
  }
 ],
 "metadata": {
  "kernelspec": {
   "display_name": "Python 3",
   "language": "python",
   "name": "python3"
  },
  "language_info": {
   "codemirror_mode": {
    "name": "ipython",
    "version": 3
   },
   "file_extension": ".py",
   "mimetype": "text/x-python",
   "name": "python",
   "nbconvert_exporter": "python",
   "pygments_lexer": "ipython3",
   "version": "3.8.11"
  }
 },
 "nbformat": 4,
 "nbformat_minor": 5
}
