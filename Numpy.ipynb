{
 "cells": [
  {
   "cell_type": "code",
   "execution_count": 4,
   "id": "6d6b136a",
   "metadata": {},
   "outputs": [],
   "source": [
    "import numpy as np"
   ]
  },
  {
   "cell_type": "code",
   "execution_count": 9,
   "id": "1ea23600",
   "metadata": {},
   "outputs": [],
   "source": [
    "# Array in numpy\n",
    "a = np.array([1, 2, 3])\n",
    "b = np.array([[4, 5, 6] , [7, 8, 9]])"
   ]
  },
  {
   "cell_type": "code",
   "execution_count": 6,
   "id": "50356b84",
   "metadata": {},
   "outputs": [
    {
     "name": "stdout",
     "output_type": "stream",
     "text": [
      "[1 2 3]\n"
     ]
    }
   ],
   "source": [
    "print(a)"
   ]
  },
  {
   "cell_type": "code",
   "execution_count": 10,
   "id": "65b475d6",
   "metadata": {},
   "outputs": [
    {
     "data": {
      "text/plain": [
       "2"
      ]
     },
     "execution_count": 10,
     "metadata": {},
     "output_type": "execute_result"
    }
   ],
   "source": [
    "# Get dimension \n",
    "a.ndim\n",
    "b.ndim"
   ]
  },
  {
   "cell_type": "code",
   "execution_count": 11,
   "id": "a0710304",
   "metadata": {},
   "outputs": [
    {
     "data": {
      "text/plain": [
       "(2, 3)"
      ]
     },
     "execution_count": 11,
     "metadata": {},
     "output_type": "execute_result"
    }
   ],
   "source": [
    "# Get the Shape (row and col in their)\n",
    "a.shape\n",
    "b.shape"
   ]
  },
  {
   "cell_type": "code",
   "execution_count": 13,
   "id": "c62d3bc6",
   "metadata": {},
   "outputs": [
    {
     "name": "stdout",
     "output_type": "stream",
     "text": [
      "int32\n",
      "4\n"
     ]
    }
   ],
   "source": [
    "# Get Type (The int that allocated) and Size(the byte that allocated)\n",
    "print(a.dtype)\n",
    "print(a.itemsize)"
   ]
  },
  {
   "cell_type": "code",
   "execution_count": 15,
   "id": "6e140a36",
   "metadata": {},
   "outputs": [
    {
     "name": "stdout",
     "output_type": "stream",
     "text": [
      "[[ 1  2  3  4  5  6  7]\n",
      " [ 8  9 10 11 12 13 14]]\n"
     ]
    }
   ],
   "source": [
    "c = np.array([[1, 2, 3, 4, 5, 6, 7], [8, 9, 10, 11, 12, 13, 14]])\n",
    "print(c)"
   ]
  },
  {
   "cell_type": "code",
   "execution_count": 17,
   "id": "78971fdc",
   "metadata": {},
   "outputs": [
    {
     "name": "stdout",
     "output_type": "stream",
     "text": [
      "13\n",
      "13\n"
     ]
    }
   ],
   "source": [
    "# Get the specific element [row , col]\n",
    "print(c[1 , 5]) #or we can have (c[1, -2])\n",
    "print(c[1][5]) # this is another way"
   ]
  },
  {
   "cell_type": "code",
   "execution_count": 20,
   "id": "34c8e039",
   "metadata": {},
   "outputs": [
    {
     "name": "stdout",
     "output_type": "stream",
     "text": [
      "[1 2 3 4 5 6 7]\n",
      "[1 2 3 4 5 6 7]\n"
     ]
    }
   ],
   "source": [
    "# Get the specific row (or col)\n",
    "print(c[0, :]) # for col is inverse c[:, 0]\n",
    "print(c[0])"
   ]
  },
  {
   "cell_type": "code",
   "execution_count": 29,
   "id": "153d0dd4",
   "metadata": {},
   "outputs": [
    {
     "data": {
      "text/plain": [
       "array([2, 4, 6])"
      ]
     },
     "execution_count": 29,
     "metadata": {},
     "output_type": "execute_result"
    }
   ],
   "source": [
    "# Get a fantecy c[startindex:endindex:stepsize]\n",
    "c[0, 1:6:2] #c[0, 1:-1:2]"
   ]
  },
  {
   "cell_type": "code",
   "execution_count": 33,
   "id": "936e796d",
   "metadata": {},
   "outputs": [
    {
     "name": "stdout",
     "output_type": "stream",
     "text": [
      "[[[1 2]\n",
      "  [3 4]]\n",
      "\n",
      " [[5 6]\n",
      "  [7 8]]]\n",
      "3\n"
     ]
    }
   ],
   "source": [
    "# n dim get element (work outside in)\n",
    "b =np.array([[[1, 2], [3, 4]], [[5, 6], [7, 8]]])\n",
    "print(b)\n",
    "print(b[0, 1, 0])"
   ]
  },
  {
   "cell_type": "code",
   "execution_count": 34,
   "id": "a5aea986",
   "metadata": {},
   "outputs": [
    {
     "name": "stdout",
     "output_type": "stream",
     "text": [
      "[[0. 0. 0.]\n",
      " [0. 0. 0.]]\n"
     ]
    }
   ],
   "source": [
    "# all zeros matrix c(row, col)\n",
    "d = np.zeros((2, 3))\n",
    "print(d)"
   ]
  },
  {
   "cell_type": "code",
   "execution_count": 40,
   "id": "9cced7a1",
   "metadata": {},
   "outputs": [
    {
     "name": "stdout",
     "output_type": "stream",
     "text": [
      "[[[1. 1.]\n",
      "  [1. 1.]\n",
      "  [1. 1.]]\n",
      "\n",
      " [[1. 1.]\n",
      "  [1. 1.]\n",
      "  [1. 1.]]]\n"
     ]
    }
   ],
   "source": [
    "# all ones matrix \n",
    "e = np.ones((2, 3, 2))\n",
    "print(e)"
   ]
  },
  {
   "cell_type": "code",
   "execution_count": 36,
   "id": "d32802ed",
   "metadata": {},
   "outputs": [
    {
     "name": "stdout",
     "output_type": "stream",
     "text": [
      "[[5 5]]\n"
     ]
    }
   ],
   "source": [
    "# any other number full((shape), value)\n",
    "f = np.full((1, 2), 5)\n",
    "print(f)"
   ]
  },
  {
   "cell_type": "code",
   "execution_count": 37,
   "id": "d3092613",
   "metadata": {},
   "outputs": [
    {
     "name": "stdout",
     "output_type": "stream",
     "text": [
      "[7 7 7]\n"
     ]
    }
   ],
   "source": [
    "# the look like array make new array \n",
    "g = np.full_like(a, 7) # or we can np.full(a.shape, 7)\n",
    "print(g)"
   ]
  },
  {
   "cell_type": "code",
   "execution_count": 46,
   "id": "a1357b60",
   "metadata": {},
   "outputs": [
    {
     "name": "stdout",
     "output_type": "stream",
     "text": [
      "[[0.77330382 0.5021246 ]\n",
      " [0.2002789  0.65432713]\n",
      " [0.632636   0.34761515]\n",
      " [0.5205834  0.10345776]]\n",
      "[[2 4]\n",
      " [3 4]\n",
      " [4 3]\n",
      " [0 1]]\n"
     ]
    }
   ],
   "source": [
    "# the random decimal array make np.random.rand(shape)\n",
    "h = np.random.rand(4,2)\n",
    "print(h)\n",
    "\n",
    "# random int np.random.randint( 0(or a number ,) to this number, size=(shape))\n",
    "i = np.random.randint(5, size=(4,2))\n",
    "print(i)"
   ]
  },
  {
   "cell_type": "code",
   "execution_count": 51,
   "id": "568f6d90",
   "metadata": {},
   "outputs": [
    {
     "name": "stdout",
     "output_type": "stream",
     "text": [
      "[[1. 0. 0. 0. 0.]\n",
      " [0. 1. 0. 0. 0.]\n",
      " [0. 0. 1. 0. 0.]\n",
      " [0. 0. 0. 1. 0.]\n",
      " [0. 0. 0. 0. 1.]]\n",
      "[[1 2]\n",
      " [1 2]\n",
      " [1 2]\n",
      " [1 2]\n",
      " [1 2]]\n"
     ]
    }
   ],
   "source": [
    "# the identity matrix\n",
    "j = np.identity(5)\n",
    "print(j)\n",
    "\n",
    "# repeat the array \n",
    "arr = np.array([[1, 2]])\n",
    "k = np.repeat(arr, 5 , axis=0)\n",
    "print(k)"
   ]
  },
  {
   "cell_type": "code",
   "execution_count": 53,
   "id": "b8ef9ed1",
   "metadata": {},
   "outputs": [
    {
     "name": "stdout",
     "output_type": "stream",
     "text": [
      "[[1. 1. 1. 1. 1.]\n",
      " [1. 0. 0. 0. 1.]\n",
      " [1. 0. 9. 0. 1.]\n",
      " [1. 0. 0. 0. 1.]\n",
      " [1. 1. 1. 1. 1.]]\n"
     ]
    }
   ],
   "source": [
    "# the Q for a make array like [[1, 1, 1, 1, 1], [1, 0, 0, 0, 1], [1, 0, 9, 0, 1], [1, 0, 0, 0, 1], [1, 1, 1, 1, 1]]\n",
    "output = np.ones((5, 5))\n",
    "\n",
    "z = np.zeros((3, 3))\n",
    "z[1, 1] = 9 \n",
    "output[1:-1, 1:-1] = z\n",
    "\n",
    "\n",
    "print(output)"
   ]
  },
  {
   "cell_type": "markdown",
   "id": "94a5dc34",
   "metadata": {},
   "source": [
    "### be careful  when copy a array!!!"
   ]
  },
  {
   "cell_type": "code",
   "execution_count": 54,
   "id": "ff81eb1f",
   "metadata": {},
   "outputs": [
    {
     "name": "stdout",
     "output_type": "stream",
     "text": [
      "[1 2 3]\n",
      "[27  2  3]\n"
     ]
    }
   ],
   "source": [
    "l = np.array([1, 2, 3])\n",
    "m = l.copy() # if we use m = 1 this two point to the one memory\n",
    "m[0] = 27\n",
    "print(l) # if we have m = l here we have [27, 2, 3] \n",
    "print(m)"
   ]
  },
  {
   "cell_type": "markdown",
   "id": "3f19c9e2",
   "metadata": {},
   "source": [
    "# mathmatic "
   ]
  },
  {
   "cell_type": "code",
   "execution_count": 56,
   "id": "0a9a25c3",
   "metadata": {},
   "outputs": [],
   "source": [
    "# mathmatic :)\n",
    "n = np.array([1, 2, 3, 4, 5])"
   ]
  },
  {
   "cell_type": "code",
   "execution_count": 65,
   "id": "c9fcd7e3",
   "metadata": {},
   "outputs": [
    {
     "data": {
      "text/plain": [
       "array([ 0.84147098,  0.90929743,  0.14112001, -0.7568025 , -0.95892427])"
      ]
     },
     "execution_count": 65,
     "metadata": {},
     "output_type": "execute_result"
    }
   ],
   "source": [
    "# we have all operations on all elements  \n",
    "n + 2 # all elements + 2\n",
    "n - 2\n",
    "n * 2\n",
    "n / 2\n",
    "n ** 2\n",
    "np.sin(n) # take the sin of value"
   ]
  },
  {
   "cell_type": "markdown",
   "id": "dd345ead",
   "metadata": {},
   "source": [
    "o = np.array(n) # in this case should have a same shape\n",
    "n + o"
   ]
  },
  {
   "cell_type": "markdown",
   "id": "24a8487b",
   "metadata": {},
   "source": [
    "# Linear Algebra"
   ]
  },
  {
   "cell_type": "code",
   "execution_count": 67,
   "id": "2f263aa0",
   "metadata": {},
   "outputs": [
    {
     "data": {
      "text/plain": [
       "array([[6., 6.],\n",
       "       [6., 6.]])"
      ]
     },
     "execution_count": 67,
     "metadata": {},
     "output_type": "execute_result"
    }
   ],
   "source": [
    "# the algebra multiplections \n",
    "p = np.ones((2, 3))\n",
    "\n",
    "q = np.full((3, 2), 2)\n",
    "\n",
    "np.matmul(p,q)"
   ]
  },
  {
   "cell_type": "code",
   "execution_count": 68,
   "id": "ee37db6c",
   "metadata": {},
   "outputs": [
    {
     "data": {
      "text/plain": [
       "1.0"
      ]
     },
     "execution_count": 68,
     "metadata": {},
     "output_type": "execute_result"
    }
   ],
   "source": [
    "# find determinations of array\n",
    "r = np.identity(3)\n",
    "np.linalg.det(r)"
   ]
  },
  {
   "cell_type": "markdown",
   "id": "2c772587",
   "metadata": {},
   "source": [
    "### statictic"
   ]
  },
  {
   "cell_type": "code",
   "execution_count": 69,
   "id": "64e17e43",
   "metadata": {},
   "outputs": [
    {
     "data": {
      "text/plain": [
       "1"
      ]
     },
     "execution_count": 69,
     "metadata": {},
     "output_type": "execute_result"
    }
   ],
   "source": [
    "s = np.array([[1, 2, 3], [4, 5, 6]])\n",
    "\n",
    "np.min(s)"
   ]
  },
  {
   "cell_type": "code",
   "execution_count": 71,
   "id": "85d2753f",
   "metadata": {},
   "outputs": [
    {
     "data": {
      "text/plain": [
       "21"
      ]
     },
     "execution_count": 71,
     "metadata": {},
     "output_type": "execute_result"
    }
   ],
   "source": [
    "np.max(s) # set the max element\n",
    "np.sum(s)"
   ]
  },
  {
   "cell_type": "code",
   "execution_count": null,
   "id": "215b9fbc",
   "metadata": {},
   "outputs": [],
   "source": []
  }
 ],
 "metadata": {
  "kernelspec": {
   "display_name": "Python 3",
   "language": "python",
   "name": "python3"
  },
  "language_info": {
   "codemirror_mode": {
    "name": "ipython",
    "version": 3
   },
   "file_extension": ".py",
   "mimetype": "text/x-python",
   "name": "python",
   "nbconvert_exporter": "python",
   "pygments_lexer": "ipython3",
   "version": "3.8.11"
  }
 },
 "nbformat": 4,
 "nbformat_minor": 5
}
